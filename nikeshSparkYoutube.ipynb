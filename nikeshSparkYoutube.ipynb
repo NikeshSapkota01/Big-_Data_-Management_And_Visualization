{
  "nbformat": 4,
  "nbformat_minor": 0,
  "metadata": {
    "colab": {
      "provenance": []
    },
    "kernelspec": {
      "name": "python3",
      "display_name": "Python 3"
    },
    "language_info": {
      "name": "python"
    }
  },
  "cells": [
    {
      "cell_type": "code",
      "execution_count": 1,
      "metadata": {
        "id": "rMrlwl9cPBTk"
      },
      "outputs": [],
      "source": [
        "!apt-get install openjdk-8-jdk-headless -qq > /dev/null\n",
        "!wget -q http://archive.apache.org/dist/spark/spark-3.1.1/spark-3.1.1-bin-hadoop3.2.tgz\n",
        "!tar xf spark-3.1.1-bin-hadoop3.2.tgz\n",
        "!pip install -q findspark"
      ]
    },
    {
      "cell_type": "code",
      "source": [
        "import os\n",
        "os.environ[\"JAVA_HOME\"] = \"/usr/lib/jvm/java-8-openjdk-amd64\"\n",
        "os.environ[\"SPARK_HOME\"] = \"/content/spark-3.1.1-bin-hadoop3.2\""
      ],
      "metadata": {
        "id": "jnu-8q4QPKtl"
      },
      "execution_count": 2,
      "outputs": []
    },
    {
      "cell_type": "code",
      "metadata": {
        "colab": {
          "base_uri": "https://localhost:8080/",
          "height": 219
        },
        "id": "5AY9L0LYw-21",
        "outputId": "2ec4d208-16cc-4983-de0c-0004c84619ea"
      },
      "source": [
        "# create a spark session for youtube data\n",
        "import findspark\n",
        "findspark.init()\n",
        "from pyspark.sql import SparkSession\n",
        "spark = SparkSession.builder.master(\"local[*]\").getOrCreate()\n",
        "# Property used to format output tables better\n",
        "spark.conf.set(\"spark.sql.repl.eagerEval.enabled\", True)\n",
        "spark"
      ],
      "execution_count": 3,
      "outputs": [
        {
          "output_type": "execute_result",
          "data": {
            "text/plain": [
              "<pyspark.sql.session.SparkSession at 0x7ed0001263b0>"
            ],
            "text/html": [
              "\n",
              "            <div>\n",
              "                <p><b>SparkSession - in-memory</b></p>\n",
              "                \n",
              "        <div>\n",
              "            <p><b>SparkContext</b></p>\n",
              "\n",
              "            <p><a href=\"http://a412befc2e2c:4040\">Spark UI</a></p>\n",
              "\n",
              "            <dl>\n",
              "              <dt>Version</dt>\n",
              "                <dd><code>v3.1.1</code></dd>\n",
              "              <dt>Master</dt>\n",
              "                <dd><code>local[*]</code></dd>\n",
              "              <dt>AppName</dt>\n",
              "                <dd><code>pyspark-shell</code></dd>\n",
              "            </dl>\n",
              "        </div>\n",
              "        \n",
              "            </div>\n",
              "        "
            ]
          },
          "metadata": {},
          "execution_count": 3
        }
      ]
    },
    {
      "cell_type": "code",
      "source": [
        "from google.colab import drive\n",
        "drive.mount('./gdrive')"
      ],
      "metadata": {
        "colab": {
          "base_uri": "https://localhost:8080/"
        },
        "id": "QP4VpW-MSIxV",
        "outputId": "546c3261-ccae-489c-81f9-f311b446bef0"
      },
      "execution_count": 4,
      "outputs": [
        {
          "output_type": "stream",
          "name": "stdout",
          "text": [
            "Mounted at ./gdrive\n"
          ]
        }
      ]
    },
    {
      "cell_type": "code",
      "source": [
        "from google.colab import drive\n",
        "drive.mount('/content/drive')"
      ],
      "metadata": {
        "colab": {
          "base_uri": "https://localhost:8080/"
        },
        "id": "Nv97qkf8SSgw",
        "outputId": "a248541d-751d-44a4-8a89-42a7dff80de7"
      },
      "execution_count": 5,
      "outputs": [
        {
          "output_type": "stream",
          "name": "stdout",
          "text": [
            "Mounted at /content/drive\n"
          ]
        }
      ]
    },
    {
      "cell_type": "code",
      "source": [
        "!ls \"/content/gdrive/MyDrive/pySpark\""
      ],
      "metadata": {
        "colab": {
          "base_uri": "https://localhost:8080/"
        },
        "id": "ugv-T48FSVMs",
        "outputId": "57d052a4-a9e4-4b3c-9074-196223a7535d"
      },
      "execution_count": 6,
      "outputs": [
        {
          "output_type": "stream",
          "name": "stdout",
          "text": [
            "ls: cannot access '/content/gdrive/MyDrive/pySpark': Transport endpoint is not connected\n"
          ]
        }
      ]
    },
    {
      "cell_type": "code",
      "source": [
        "!ls \"/content/drive/MyDrive/pySpark\""
      ],
      "metadata": {
        "colab": {
          "base_uri": "https://localhost:8080/"
        },
        "id": "r0ooLfPKS8UQ",
        "outputId": "230076bd-d97a-474d-b088-dda3a8b8cdef"
      },
      "execution_count": 7,
      "outputs": [
        {
          "output_type": "stream",
          "name": "stdout",
          "text": [
            "Global_YouTube_Statistics.csv\n"
          ]
        }
      ]
    },
    {
      "cell_type": "code",
      "source": [
        "!cp /content/drive/MyDrive/Nikesh_Web_Clawer /content -r"
      ],
      "metadata": {
        "id": "FtNBURtGTHrM"
      },
      "execution_count": 8,
      "outputs": []
    },
    {
      "cell_type": "code",
      "source": [
        "# Load the csv into the dataframe\n",
        "youtube_df = spark.read.csv(\"/content/drive/MyDrive/pySpark/Global_YouTube_Statistics.csv\", header=True,  inferSchema=True)\n",
        "youtube_df"
      ],
      "metadata": {
        "colab": {
          "base_uri": "https://localhost:8080/",
          "height": 873
        },
        "id": "vY4YeKjIP7P_",
        "outputId": "7a071271-62fa-42c5-97ae-2df7cd8a82f4"
      },
      "execution_count": 22,
      "outputs": [
        {
          "output_type": "execute_result",
          "data": {
            "text/plain": [
              "+----+--------------------+-----------+---------------+----------------+--------------------+-------+--------------+------------+-------------+----------------+------------+-----------------+--------------------------------+-----------------------+------------------------+----------------------+-----------------------+----------------------------+------------+-------------+------------+---------------------------------------+----------+-----------------+----------------+---------+-----------+\n",
              "|rank|            Youtuber|subscribers|    video views|        category|               Title|uploads|       Country|Abbreviation| channel_type|video_views_rank|country_rank|channel_type_rank|video_views_for_the_last_30_days|lowest_monthly_earnings|highest_monthly_earnings|lowest_yearly_earnings|highest_yearly_earnings|subscribers_for_last_30_days|created_year|created_month|created_date|Gross tertiary education enrollment (%)|Population|Unemployment rate|Urban_population| Latitude|  Longitude|\n",
              "+----+--------------------+-----------+---------------+----------------+--------------------+-------+--------------+------------+-------------+----------------+------------+-----------------+--------------------------------+-----------------------+------------------------+----------------------+-----------------------+----------------------------+------------+-------------+------------+---------------------------------------+----------+-----------------+----------------+---------+-----------+\n",
              "|   1|            T-Series|  245000000|        2.28E11|           Music|            T-Series|  20082|         India|          IN|        Music|               1|           1|                1|                      2258000000|               564600.0|               9000000.0|             6800000.0|                1.084E8|                     2000000|        2006|          Mar|          13|                                   28.1|1366417754|             5.36|       471031528|20.593684|   78.96288|\n",
              "|   2|      YouTube Movies|  170000000|            0.0|Film & Animation|       youtubemovies|      1| United States|          US|        Games|         4055159|        7670|             7423|                              12|                    0.0|                    0.05|                  0.04|                   0.58|                         nan|        2006|          Mar|           5|                                   88.2| 328239523|             14.7|       270663028| 37.09024| -95.712891|\n",
              "|   3|             MrBeast|  166000000| 2.836884187E10|   Entertainment|             MrBeast|    741| United States|          US|Entertainment|              48|           1|                1|                      1348000000|               337000.0|               5400000.0|             4000000.0|                 6.47E7|                     8000000|        2012|          Feb|          20|                                   88.2| 328239523|             14.7|       270663028| 37.09024| -95.712891|\n",
              "|   4|Cocomelon - Nurse...|  162000000|        1.64E11|       Education|Cocomelon - Nurse...|    966| United States|          US|    Education|               2|           2|                1|                      1975000000|               493800.0|               7900000.0|             5900000.0|                 9.48E7|                     1000000|        2006|          Sep|           1|                                   88.2| 328239523|             14.7|       270663028| 37.09024| -95.712891|\n",
              "|   5|           SET India|  159000000|        1.48E11|           Shows|           SET India| 116536|         India|          IN|Entertainment|               3|           2|                2|                      1824000000|               455900.0|               7300000.0|             5500000.0|                 8.75E7|                     1000000|        2006|          Sep|          20|                                   28.1|1366417754|             5.36|       471031528|20.593684|   78.96288|\n",
              "|   6|               Music|  119000000|            0.0|             nan|               Music|      0|           nan|         nan|        Music|         4057944|         nan|              nan|                             nan|                    0.0|                     0.0|                   0.0|                    0.0|                         nan|        2013|          Sep|          24|                                    nan|       nan|              nan|             nan|      nan|        nan|\n",
              "|   7| ��� Kids Diana Show|  112000000|9.3247040539E10|  People & Blogs| ��� Kids Diana Show|   1111| United States|          US|Entertainment|               5|           3|                3|                       731674000|               182900.0|               2900000.0|             2200000.0|                 3.51E7|                         nan|        2015|          May|          12|                                   88.2| 328239523|             14.7|       270663028| 37.09024| -95.712891|\n",
              "|   8|           PewDiePie|  111000000|2.9058044447E10|          Gaming|           PewDiePie|   4716|         Japan|          JP|Entertainment|              44|           1|                4|                        39184000|                 9800.0|                156700.0|              117600.0|              1900000.0|                         nan|        2010|          Apr|          29|                                   63.2| 126226568|             2.29|       115782416|36.204824| 138.252924|\n",
              "|   9|         Like Nastya|  106000000|9.0479060027E10|  People & Blogs|    Like Nastya Vlog|    493|        Russia|          RU|       People|             630|           5|               25|                        48947000|                12200.0|                195800.0|              146800.0|              2300000.0|                      100000|        2016|          Jan|          14|                                   81.9| 144373535|             4.59|       107683889| 61.52401| 105.318756|\n",
              "|  10|       Vlad and Niki|   98900000|7.7180169894E10|   Entertainment|       Vlad and Niki|    574| United States|          US|Entertainment|               8|           5|                6|                       580574000|               145100.0|               2300000.0|             1700000.0|                 2.79E7|                      600000|        2018|          Apr|          23|                                   88.2| 328239523|             14.7|       270663028| 37.09024| -95.712891|\n",
              "|  11|   Zee Music Company|   96700000|5.7856289381E10|           Music|   Zee Music Company|   8548|         India|          IN|        Music|              12|           3|                2|                       803613000|               200900.0|               3200000.0|             2400000.0|                 3.86E7|                     1100000|        2014|          Mar|          12|                                   28.1|1366417754|             5.36|       471031528|20.593684|   78.96288|\n",
              "|  12|                 WWE|   96000000|7.7428473662E10|          Sports|                 WWE|  70127| United States|          US|       Sports|               7|           6|                1|                       714614000|               178700.0|               2900000.0|             2100000.0|                 3.43E7|                      600000|        2007|          May|          11|                                   88.2| 328239523|             14.7|       270663028| 37.09024| -95.712891|\n",
              "|  13|              Gaming|   93600000|            0.0|             nan|              Gaming|      0|           nan|         nan|        Games|         4057944|         nan|                1|                             nan|                    0.0|                     0.0|                   0.0|                    0.0|                         nan|        2013|          Dec|          15|                                    nan|       nan|              nan|             nan|      nan|        nan|\n",
              "|  14|           BLACKPINK|   89800000|3.2144597566E10|  People & Blogs|           BLACKPINK|    543|   South Korea|          KR|        Music|              32|           1|                3|                       498930000|               124700.0|               2000000.0|             1500000.0|                 2.39E7|                      700000|        2016|          Jun|          29|                                   94.3|  51709098|             4.15|        42106719|35.907757| 127.766922|\n",
              "|  15|           Goldmines|   86900000| 2.411823058E10|Film & Animation|           goldmines|      1|           nan|         nan|        Music|         4056562|         nan|             5663|                              18|                    0.0|                    0.07|                  0.05|                   0.86|                         nan|        2006|          Aug|          15|                                    nan|       nan|              nan|             nan|      nan|        nan|\n",
              "|  16|            Sony SAB|   83000000|        1.01E11|           Shows|            Sony SAB|  71270|         India|          IN|Entertainment|               4|           5|                7|                      1657000000|               414300.0|               6600000.0|             5000000.0|                 7.96E7|                     1100000|        2007|          Aug|           4|                                   28.1|1366417754|             5.36|       471031528|20.593684|   78.96288|\n",
              "|  17|     5-Minute Crafts|   80100000|2.6236790209E10|   Howto & Style| 5-Minute Crafts 2.0|      1|United Kingdom|          GB|Entertainment|         4057901|        4797|             6781|                               1|                    0.0|                     0.0|                   0.0|                   0.05|                         nan|        2020|          Jul|          27|                                     60|  66834405|             3.85|        55908316|55.378051|  -3.435973|\n",
              "|  18|           BANGTANTV|   75600000|2.0826993957E10|           Music|           BANGTANTV|   2281|   South Korea|          KR|        Music|             112|           2|                4|                       168290000|                42100.0|                673200.0|              504900.0|              8100000.0|                      400000|        2012|          Dec|          17|                                   94.3|  51709098|             4.15|        42106719|35.907757| 127.766922|\n",
              "|  19|              Sports|   75000000|            0.0|             nan|              sports|      3| United States|          US|Entertainment|         3898122|        6266|             5395|                              16|                    0.0|                    0.06|                  0.05|                   0.77|                         nan|        2006|          Jan|          30|                                   88.2| 328239523|             14.7|       270663028| 37.09024| -95.712891|\n",
              "|  20|       Justin Bieber|   71600000|3.0608119724E10|           Music|       Justin Bieber|    249|        Canada|          CA|        Music|              38|           1|                6|                       176326000|                44100.0|                705300.0|              529000.0|              8500000.0|                      100000|        2007|          Jan|          15|                                   68.9|  36991981|             5.56|        30628482|56.130366|-106.346771|\n",
              "+----+--------------------+-----------+---------------+----------------+--------------------+-------+--------------+------------+-------------+----------------+------------+-----------------+--------------------------------+-----------------------+------------------------+----------------------+-----------------------+----------------------------+------------+-------------+------------+---------------------------------------+----------+-----------------+----------------+---------+-----------+\n",
              "only showing top 20 rows"
            ],
            "text/html": [
              "<table border='1'>\n",
              "<tr><th>rank</th><th>Youtuber</th><th>subscribers</th><th>video views</th><th>category</th><th>Title</th><th>uploads</th><th>Country</th><th>Abbreviation</th><th>channel_type</th><th>video_views_rank</th><th>country_rank</th><th>channel_type_rank</th><th>video_views_for_the_last_30_days</th><th>lowest_monthly_earnings</th><th>highest_monthly_earnings</th><th>lowest_yearly_earnings</th><th>highest_yearly_earnings</th><th>subscribers_for_last_30_days</th><th>created_year</th><th>created_month</th><th>created_date</th><th>Gross tertiary education enrollment (%)</th><th>Population</th><th>Unemployment rate</th><th>Urban_population</th><th>Latitude</th><th>Longitude</th></tr>\n",
              "<tr><td>1</td><td>T-Series</td><td>245000000</td><td>2.28E11</td><td>Music</td><td>T-Series</td><td>20082</td><td>India</td><td>IN</td><td>Music</td><td>1</td><td>1</td><td>1</td><td>2258000000</td><td>564600.0</td><td>9000000.0</td><td>6800000.0</td><td>1.084E8</td><td>2000000</td><td>2006</td><td>Mar</td><td>13</td><td>28.1</td><td>1366417754</td><td>5.36</td><td>471031528</td><td>20.593684</td><td>78.96288</td></tr>\n",
              "<tr><td>2</td><td>YouTube Movies</td><td>170000000</td><td>0.0</td><td>Film &amp; Animation</td><td>youtubemovies</td><td>1</td><td>United States</td><td>US</td><td>Games</td><td>4055159</td><td>7670</td><td>7423</td><td>12</td><td>0.0</td><td>0.05</td><td>0.04</td><td>0.58</td><td>nan</td><td>2006</td><td>Mar</td><td>5</td><td>88.2</td><td>328239523</td><td>14.7</td><td>270663028</td><td>37.09024</td><td>-95.712891</td></tr>\n",
              "<tr><td>3</td><td>MrBeast</td><td>166000000</td><td>2.836884187E10</td><td>Entertainment</td><td>MrBeast</td><td>741</td><td>United States</td><td>US</td><td>Entertainment</td><td>48</td><td>1</td><td>1</td><td>1348000000</td><td>337000.0</td><td>5400000.0</td><td>4000000.0</td><td>6.47E7</td><td>8000000</td><td>2012</td><td>Feb</td><td>20</td><td>88.2</td><td>328239523</td><td>14.7</td><td>270663028</td><td>37.09024</td><td>-95.712891</td></tr>\n",
              "<tr><td>4</td><td>Cocomelon - Nurse...</td><td>162000000</td><td>1.64E11</td><td>Education</td><td>Cocomelon - Nurse...</td><td>966</td><td>United States</td><td>US</td><td>Education</td><td>2</td><td>2</td><td>1</td><td>1975000000</td><td>493800.0</td><td>7900000.0</td><td>5900000.0</td><td>9.48E7</td><td>1000000</td><td>2006</td><td>Sep</td><td>1</td><td>88.2</td><td>328239523</td><td>14.7</td><td>270663028</td><td>37.09024</td><td>-95.712891</td></tr>\n",
              "<tr><td>5</td><td>SET India</td><td>159000000</td><td>1.48E11</td><td>Shows</td><td>SET India</td><td>116536</td><td>India</td><td>IN</td><td>Entertainment</td><td>3</td><td>2</td><td>2</td><td>1824000000</td><td>455900.0</td><td>7300000.0</td><td>5500000.0</td><td>8.75E7</td><td>1000000</td><td>2006</td><td>Sep</td><td>20</td><td>28.1</td><td>1366417754</td><td>5.36</td><td>471031528</td><td>20.593684</td><td>78.96288</td></tr>\n",
              "<tr><td>6</td><td>Music</td><td>119000000</td><td>0.0</td><td>nan</td><td>Music</td><td>0</td><td>nan</td><td>nan</td><td>Music</td><td>4057944</td><td>nan</td><td>nan</td><td>nan</td><td>0.0</td><td>0.0</td><td>0.0</td><td>0.0</td><td>nan</td><td>2013</td><td>Sep</td><td>24</td><td>nan</td><td>nan</td><td>nan</td><td>nan</td><td>nan</td><td>nan</td></tr>\n",
              "<tr><td>7</td><td>��� Kids Diana Show</td><td>112000000</td><td>9.3247040539E10</td><td>People &amp; Blogs</td><td>��� Kids Diana Show</td><td>1111</td><td>United States</td><td>US</td><td>Entertainment</td><td>5</td><td>3</td><td>3</td><td>731674000</td><td>182900.0</td><td>2900000.0</td><td>2200000.0</td><td>3.51E7</td><td>nan</td><td>2015</td><td>May</td><td>12</td><td>88.2</td><td>328239523</td><td>14.7</td><td>270663028</td><td>37.09024</td><td>-95.712891</td></tr>\n",
              "<tr><td>8</td><td>PewDiePie</td><td>111000000</td><td>2.9058044447E10</td><td>Gaming</td><td>PewDiePie</td><td>4716</td><td>Japan</td><td>JP</td><td>Entertainment</td><td>44</td><td>1</td><td>4</td><td>39184000</td><td>9800.0</td><td>156700.0</td><td>117600.0</td><td>1900000.0</td><td>nan</td><td>2010</td><td>Apr</td><td>29</td><td>63.2</td><td>126226568</td><td>2.29</td><td>115782416</td><td>36.204824</td><td>138.252924</td></tr>\n",
              "<tr><td>9</td><td>Like Nastya</td><td>106000000</td><td>9.0479060027E10</td><td>People &amp; Blogs</td><td>Like Nastya Vlog</td><td>493</td><td>Russia</td><td>RU</td><td>People</td><td>630</td><td>5</td><td>25</td><td>48947000</td><td>12200.0</td><td>195800.0</td><td>146800.0</td><td>2300000.0</td><td>100000</td><td>2016</td><td>Jan</td><td>14</td><td>81.9</td><td>144373535</td><td>4.59</td><td>107683889</td><td>61.52401</td><td>105.318756</td></tr>\n",
              "<tr><td>10</td><td>Vlad and Niki</td><td>98900000</td><td>7.7180169894E10</td><td>Entertainment</td><td>Vlad and Niki</td><td>574</td><td>United States</td><td>US</td><td>Entertainment</td><td>8</td><td>5</td><td>6</td><td>580574000</td><td>145100.0</td><td>2300000.0</td><td>1700000.0</td><td>2.79E7</td><td>600000</td><td>2018</td><td>Apr</td><td>23</td><td>88.2</td><td>328239523</td><td>14.7</td><td>270663028</td><td>37.09024</td><td>-95.712891</td></tr>\n",
              "<tr><td>11</td><td>Zee Music Company</td><td>96700000</td><td>5.7856289381E10</td><td>Music</td><td>Zee Music Company</td><td>8548</td><td>India</td><td>IN</td><td>Music</td><td>12</td><td>3</td><td>2</td><td>803613000</td><td>200900.0</td><td>3200000.0</td><td>2400000.0</td><td>3.86E7</td><td>1100000</td><td>2014</td><td>Mar</td><td>12</td><td>28.1</td><td>1366417754</td><td>5.36</td><td>471031528</td><td>20.593684</td><td>78.96288</td></tr>\n",
              "<tr><td>12</td><td>WWE</td><td>96000000</td><td>7.7428473662E10</td><td>Sports</td><td>WWE</td><td>70127</td><td>United States</td><td>US</td><td>Sports</td><td>7</td><td>6</td><td>1</td><td>714614000</td><td>178700.0</td><td>2900000.0</td><td>2100000.0</td><td>3.43E7</td><td>600000</td><td>2007</td><td>May</td><td>11</td><td>88.2</td><td>328239523</td><td>14.7</td><td>270663028</td><td>37.09024</td><td>-95.712891</td></tr>\n",
              "<tr><td>13</td><td>Gaming</td><td>93600000</td><td>0.0</td><td>nan</td><td>Gaming</td><td>0</td><td>nan</td><td>nan</td><td>Games</td><td>4057944</td><td>nan</td><td>1</td><td>nan</td><td>0.0</td><td>0.0</td><td>0.0</td><td>0.0</td><td>nan</td><td>2013</td><td>Dec</td><td>15</td><td>nan</td><td>nan</td><td>nan</td><td>nan</td><td>nan</td><td>nan</td></tr>\n",
              "<tr><td>14</td><td>BLACKPINK</td><td>89800000</td><td>3.2144597566E10</td><td>People &amp; Blogs</td><td>BLACKPINK</td><td>543</td><td>South Korea</td><td>KR</td><td>Music</td><td>32</td><td>1</td><td>3</td><td>498930000</td><td>124700.0</td><td>2000000.0</td><td>1500000.0</td><td>2.39E7</td><td>700000</td><td>2016</td><td>Jun</td><td>29</td><td>94.3</td><td>51709098</td><td>4.15</td><td>42106719</td><td>35.907757</td><td>127.766922</td></tr>\n",
              "<tr><td>15</td><td>Goldmines</td><td>86900000</td><td>2.411823058E10</td><td>Film &amp; Animation</td><td>goldmines</td><td>1</td><td>nan</td><td>nan</td><td>Music</td><td>4056562</td><td>nan</td><td>5663</td><td>18</td><td>0.0</td><td>0.07</td><td>0.05</td><td>0.86</td><td>nan</td><td>2006</td><td>Aug</td><td>15</td><td>nan</td><td>nan</td><td>nan</td><td>nan</td><td>nan</td><td>nan</td></tr>\n",
              "<tr><td>16</td><td>Sony SAB</td><td>83000000</td><td>1.01E11</td><td>Shows</td><td>Sony SAB</td><td>71270</td><td>India</td><td>IN</td><td>Entertainment</td><td>4</td><td>5</td><td>7</td><td>1657000000</td><td>414300.0</td><td>6600000.0</td><td>5000000.0</td><td>7.96E7</td><td>1100000</td><td>2007</td><td>Aug</td><td>4</td><td>28.1</td><td>1366417754</td><td>5.36</td><td>471031528</td><td>20.593684</td><td>78.96288</td></tr>\n",
              "<tr><td>17</td><td>5-Minute Crafts</td><td>80100000</td><td>2.6236790209E10</td><td>Howto &amp; Style</td><td>5-Minute Crafts 2.0</td><td>1</td><td>United Kingdom</td><td>GB</td><td>Entertainment</td><td>4057901</td><td>4797</td><td>6781</td><td>1</td><td>0.0</td><td>0.0</td><td>0.0</td><td>0.05</td><td>nan</td><td>2020</td><td>Jul</td><td>27</td><td>60</td><td>66834405</td><td>3.85</td><td>55908316</td><td>55.378051</td><td>-3.435973</td></tr>\n",
              "<tr><td>18</td><td>BANGTANTV</td><td>75600000</td><td>2.0826993957E10</td><td>Music</td><td>BANGTANTV</td><td>2281</td><td>South Korea</td><td>KR</td><td>Music</td><td>112</td><td>2</td><td>4</td><td>168290000</td><td>42100.0</td><td>673200.0</td><td>504900.0</td><td>8100000.0</td><td>400000</td><td>2012</td><td>Dec</td><td>17</td><td>94.3</td><td>51709098</td><td>4.15</td><td>42106719</td><td>35.907757</td><td>127.766922</td></tr>\n",
              "<tr><td>19</td><td>Sports</td><td>75000000</td><td>0.0</td><td>nan</td><td>sports</td><td>3</td><td>United States</td><td>US</td><td>Entertainment</td><td>3898122</td><td>6266</td><td>5395</td><td>16</td><td>0.0</td><td>0.06</td><td>0.05</td><td>0.77</td><td>nan</td><td>2006</td><td>Jan</td><td>30</td><td>88.2</td><td>328239523</td><td>14.7</td><td>270663028</td><td>37.09024</td><td>-95.712891</td></tr>\n",
              "<tr><td>20</td><td>Justin Bieber</td><td>71600000</td><td>3.0608119724E10</td><td>Music</td><td>Justin Bieber</td><td>249</td><td>Canada</td><td>CA</td><td>Music</td><td>38</td><td>1</td><td>6</td><td>176326000</td><td>44100.0</td><td>705300.0</td><td>529000.0</td><td>8500000.0</td><td>100000</td><td>2007</td><td>Jan</td><td>15</td><td>68.9</td><td>36991981</td><td>5.56</td><td>30628482</td><td>56.130366</td><td>-106.346771</td></tr>\n",
              "</table>\n",
              "only showing top 20 rows\n"
            ]
          },
          "metadata": {},
          "execution_count": 22
        }
      ]
    },
    {
      "cell_type": "code",
      "metadata": {
        "colab": {
          "base_uri": "https://localhost:8080/"
        },
        "id": "K02d6sPwxtnz",
        "outputId": "a91075d8-4068-4a9b-dfd0-d741cc174ae6"
      },
      "source": [
        "youtube_df.printSchema()"
      ],
      "execution_count": 23,
      "outputs": [
        {
          "output_type": "stream",
          "name": "stdout",
          "text": [
            "root\n",
            " |-- rank: integer (nullable = true)\n",
            " |-- Youtuber: string (nullable = true)\n",
            " |-- subscribers: integer (nullable = true)\n",
            " |-- video views: double (nullable = true)\n",
            " |-- category: string (nullable = true)\n",
            " |-- Title: string (nullable = true)\n",
            " |-- uploads: integer (nullable = true)\n",
            " |-- Country: string (nullable = true)\n",
            " |-- Abbreviation: string (nullable = true)\n",
            " |-- channel_type: string (nullable = true)\n",
            " |-- video_views_rank: integer (nullable = true)\n",
            " |-- country_rank: string (nullable = true)\n",
            " |-- channel_type_rank: string (nullable = true)\n",
            " |-- video_views_for_the_last_30_days: string (nullable = true)\n",
            " |-- lowest_monthly_earnings: double (nullable = true)\n",
            " |-- highest_monthly_earnings: double (nullable = true)\n",
            " |-- lowest_yearly_earnings: double (nullable = true)\n",
            " |-- highest_yearly_earnings: double (nullable = true)\n",
            " |-- subscribers_for_last_30_days: string (nullable = true)\n",
            " |-- created_year: string (nullable = true)\n",
            " |-- created_month: string (nullable = true)\n",
            " |-- created_date: string (nullable = true)\n",
            " |-- Gross tertiary education enrollment (%): string (nullable = true)\n",
            " |-- Population: string (nullable = true)\n",
            " |-- Unemployment rate: string (nullable = true)\n",
            " |-- Urban_population: string (nullable = true)\n",
            " |-- Latitude: string (nullable = true)\n",
            " |-- Longitude: string (nullable = true)\n",
            "\n"
          ]
        }
      ]
    },
    {
      "cell_type": "code",
      "source": [
        "# data cleaning\n",
        "# fillna() is used to replace null value with any 0 value\n",
        "youtube_df.fillna(value=0).show()\n"
      ],
      "metadata": {
        "colab": {
          "base_uri": "https://localhost:8080/"
        },
        "id": "h7wZ6wqDYLSY",
        "outputId": "79e596c5-d591-4223-88dc-e8636a9f9623"
      },
      "execution_count": 26,
      "outputs": [
        {
          "output_type": "stream",
          "name": "stdout",
          "text": [
            "+----+--------------------+-----------+---------------+----------------+--------------------+-------+--------------+------------+-------------+----------------+------------+-----------------+--------------------------------+-----------------------+------------------------+----------------------+-----------------------+----------------------------+------------+-------------+------------+---------------------------------------+----------+-----------------+----------------+---------+-----------+\n",
            "|rank|            Youtuber|subscribers|    video views|        category|               Title|uploads|       Country|Abbreviation| channel_type|video_views_rank|country_rank|channel_type_rank|video_views_for_the_last_30_days|lowest_monthly_earnings|highest_monthly_earnings|lowest_yearly_earnings|highest_yearly_earnings|subscribers_for_last_30_days|created_year|created_month|created_date|Gross tertiary education enrollment (%)|Population|Unemployment rate|Urban_population| Latitude|  Longitude|\n",
            "+----+--------------------+-----------+---------------+----------------+--------------------+-------+--------------+------------+-------------+----------------+------------+-----------------+--------------------------------+-----------------------+------------------------+----------------------+-----------------------+----------------------------+------------+-------------+------------+---------------------------------------+----------+-----------------+----------------+---------+-----------+\n",
            "|   1|            T-Series|  245000000|        2.28E11|           Music|            T-Series|  20082|         India|          IN|        Music|               1|           1|                1|                      2258000000|               564600.0|               9000000.0|             6800000.0|                1.084E8|                     2000000|        2006|          Mar|          13|                                   28.1|1366417754|             5.36|       471031528|20.593684|   78.96288|\n",
            "|   2|      YouTube Movies|  170000000|            0.0|Film & Animation|       youtubemovies|      1| United States|          US|        Games|         4055159|        7670|             7423|                              12|                    0.0|                    0.05|                  0.04|                   0.58|                         nan|        2006|          Mar|           5|                                   88.2| 328239523|             14.7|       270663028| 37.09024| -95.712891|\n",
            "|   3|             MrBeast|  166000000| 2.836884187E10|   Entertainment|             MrBeast|    741| United States|          US|Entertainment|              48|           1|                1|                      1348000000|               337000.0|               5400000.0|             4000000.0|                 6.47E7|                     8000000|        2012|          Feb|          20|                                   88.2| 328239523|             14.7|       270663028| 37.09024| -95.712891|\n",
            "|   4|Cocomelon - Nurse...|  162000000|        1.64E11|       Education|Cocomelon - Nurse...|    966| United States|          US|    Education|               2|           2|                1|                      1975000000|               493800.0|               7900000.0|             5900000.0|                 9.48E7|                     1000000|        2006|          Sep|           1|                                   88.2| 328239523|             14.7|       270663028| 37.09024| -95.712891|\n",
            "|   5|           SET India|  159000000|        1.48E11|           Shows|           SET India| 116536|         India|          IN|Entertainment|               3|           2|                2|                      1824000000|               455900.0|               7300000.0|             5500000.0|                 8.75E7|                     1000000|        2006|          Sep|          20|                                   28.1|1366417754|             5.36|       471031528|20.593684|   78.96288|\n",
            "|   6|               Music|  119000000|            0.0|             nan|               Music|      0|           nan|         nan|        Music|         4057944|         nan|              nan|                             nan|                    0.0|                     0.0|                   0.0|                    0.0|                         nan|        2013|          Sep|          24|                                    nan|       nan|              nan|             nan|      nan|        nan|\n",
            "|   7| ��� Kids Diana Show|  112000000|9.3247040539E10|  People & Blogs| ��� Kids Diana Show|   1111| United States|          US|Entertainment|               5|           3|                3|                       731674000|               182900.0|               2900000.0|             2200000.0|                 3.51E7|                         nan|        2015|          May|          12|                                   88.2| 328239523|             14.7|       270663028| 37.09024| -95.712891|\n",
            "|   8|           PewDiePie|  111000000|2.9058044447E10|          Gaming|           PewDiePie|   4716|         Japan|          JP|Entertainment|              44|           1|                4|                        39184000|                 9800.0|                156700.0|              117600.0|              1900000.0|                         nan|        2010|          Apr|          29|                                   63.2| 126226568|             2.29|       115782416|36.204824| 138.252924|\n",
            "|   9|         Like Nastya|  106000000|9.0479060027E10|  People & Blogs|    Like Nastya Vlog|    493|        Russia|          RU|       People|             630|           5|               25|                        48947000|                12200.0|                195800.0|              146800.0|              2300000.0|                      100000|        2016|          Jan|          14|                                   81.9| 144373535|             4.59|       107683889| 61.52401| 105.318756|\n",
            "|  10|       Vlad and Niki|   98900000|7.7180169894E10|   Entertainment|       Vlad and Niki|    574| United States|          US|Entertainment|               8|           5|                6|                       580574000|               145100.0|               2300000.0|             1700000.0|                 2.79E7|                      600000|        2018|          Apr|          23|                                   88.2| 328239523|             14.7|       270663028| 37.09024| -95.712891|\n",
            "|  11|   Zee Music Company|   96700000|5.7856289381E10|           Music|   Zee Music Company|   8548|         India|          IN|        Music|              12|           3|                2|                       803613000|               200900.0|               3200000.0|             2400000.0|                 3.86E7|                     1100000|        2014|          Mar|          12|                                   28.1|1366417754|             5.36|       471031528|20.593684|   78.96288|\n",
            "|  12|                 WWE|   96000000|7.7428473662E10|          Sports|                 WWE|  70127| United States|          US|       Sports|               7|           6|                1|                       714614000|               178700.0|               2900000.0|             2100000.0|                 3.43E7|                      600000|        2007|          May|          11|                                   88.2| 328239523|             14.7|       270663028| 37.09024| -95.712891|\n",
            "|  13|              Gaming|   93600000|            0.0|             nan|              Gaming|      0|           nan|         nan|        Games|         4057944|         nan|                1|                             nan|                    0.0|                     0.0|                   0.0|                    0.0|                         nan|        2013|          Dec|          15|                                    nan|       nan|              nan|             nan|      nan|        nan|\n",
            "|  14|           BLACKPINK|   89800000|3.2144597566E10|  People & Blogs|           BLACKPINK|    543|   South Korea|          KR|        Music|              32|           1|                3|                       498930000|               124700.0|               2000000.0|             1500000.0|                 2.39E7|                      700000|        2016|          Jun|          29|                                   94.3|  51709098|             4.15|        42106719|35.907757| 127.766922|\n",
            "|  15|           Goldmines|   86900000| 2.411823058E10|Film & Animation|           goldmines|      1|           nan|         nan|        Music|         4056562|         nan|             5663|                              18|                    0.0|                    0.07|                  0.05|                   0.86|                         nan|        2006|          Aug|          15|                                    nan|       nan|              nan|             nan|      nan|        nan|\n",
            "|  16|            Sony SAB|   83000000|        1.01E11|           Shows|            Sony SAB|  71270|         India|          IN|Entertainment|               4|           5|                7|                      1657000000|               414300.0|               6600000.0|             5000000.0|                 7.96E7|                     1100000|        2007|          Aug|           4|                                   28.1|1366417754|             5.36|       471031528|20.593684|   78.96288|\n",
            "|  17|     5-Minute Crafts|   80100000|2.6236790209E10|   Howto & Style| 5-Minute Crafts 2.0|      1|United Kingdom|          GB|Entertainment|         4057901|        4797|             6781|                               1|                    0.0|                     0.0|                   0.0|                   0.05|                         nan|        2020|          Jul|          27|                                     60|  66834405|             3.85|        55908316|55.378051|  -3.435973|\n",
            "|  18|           BANGTANTV|   75600000|2.0826993957E10|           Music|           BANGTANTV|   2281|   South Korea|          KR|        Music|             112|           2|                4|                       168290000|                42100.0|                673200.0|              504900.0|              8100000.0|                      400000|        2012|          Dec|          17|                                   94.3|  51709098|             4.15|        42106719|35.907757| 127.766922|\n",
            "|  19|              Sports|   75000000|            0.0|             nan|              sports|      3| United States|          US|Entertainment|         3898122|        6266|             5395|                              16|                    0.0|                    0.06|                  0.05|                   0.77|                         nan|        2006|          Jan|          30|                                   88.2| 328239523|             14.7|       270663028| 37.09024| -95.712891|\n",
            "|  20|       Justin Bieber|   71600000|3.0608119724E10|           Music|       Justin Bieber|    249|        Canada|          CA|        Music|              38|           1|                6|                       176326000|                44100.0|                705300.0|              529000.0|              8500000.0|                      100000|        2007|          Jan|          15|                                   68.9|  36991981|             5.56|        30628482|56.130366|-106.346771|\n",
            "+----+--------------------+-----------+---------------+----------------+--------------------+-------+--------------+------------+-------------+----------------+------------+-----------------+--------------------------------+-----------------------+------------------------+----------------------+-----------------------+----------------------------+------------+-------------+------------+---------------------------------------+----------+-----------------+----------------+---------+-----------+\n",
            "only showing top 20 rows\n",
            "\n"
          ]
        }
      ]
    },
    {
      "cell_type": "code",
      "source": [
        "# changing the title from rank to Ranking\n",
        "youtube_df = youtube_df.withColumnRenamed(\"rank\", \"Ranking\")\n",
        "youtube_df.show()"
      ],
      "metadata": {
        "colab": {
          "base_uri": "https://localhost:8080/"
        },
        "id": "IOjs7gsydn-r",
        "outputId": "a80fcd88-ddbb-48bd-876f-7a6ec8eaf61a"
      },
      "execution_count": 28,
      "outputs": [
        {
          "output_type": "stream",
          "name": "stdout",
          "text": [
            "+-------+--------------------+-----------+---------------+----------------+--------------------+-------+--------------+------------+-------------+----------------+------------+-----------------+--------------------------------+-----------------------+------------------------+----------------------+-----------------------+----------------------------+------------+-------------+------------+---------------------------------------+----------+-----------------+----------------+---------+-----------+\n",
            "|Ranking|            Youtuber|subscribers|    video views|        category|               Title|uploads|       Country|Abbreviation| channel_type|video_views_rank|country_rank|channel_type_rank|video_views_for_the_last_30_days|lowest_monthly_earnings|highest_monthly_earnings|lowest_yearly_earnings|highest_yearly_earnings|subscribers_for_last_30_days|created_year|created_month|created_date|Gross tertiary education enrollment (%)|Population|Unemployment rate|Urban_population| Latitude|  Longitude|\n",
            "+-------+--------------------+-----------+---------------+----------------+--------------------+-------+--------------+------------+-------------+----------------+------------+-----------------+--------------------------------+-----------------------+------------------------+----------------------+-----------------------+----------------------------+------------+-------------+------------+---------------------------------------+----------+-----------------+----------------+---------+-----------+\n",
            "|      1|            T-Series|  245000000|        2.28E11|           Music|            T-Series|  20082|         India|          IN|        Music|               1|           1|                1|                      2258000000|               564600.0|               9000000.0|             6800000.0|                1.084E8|                     2000000|        2006|          Mar|          13|                                   28.1|1366417754|             5.36|       471031528|20.593684|   78.96288|\n",
            "|      2|      YouTube Movies|  170000000|            0.0|Film & Animation|       youtubemovies|      1| United States|          US|        Games|         4055159|        7670|             7423|                              12|                    0.0|                    0.05|                  0.04|                   0.58|                         nan|        2006|          Mar|           5|                                   88.2| 328239523|             14.7|       270663028| 37.09024| -95.712891|\n",
            "|      3|             MrBeast|  166000000| 2.836884187E10|   Entertainment|             MrBeast|    741| United States|          US|Entertainment|              48|           1|                1|                      1348000000|               337000.0|               5400000.0|             4000000.0|                 6.47E7|                     8000000|        2012|          Feb|          20|                                   88.2| 328239523|             14.7|       270663028| 37.09024| -95.712891|\n",
            "|      4|Cocomelon - Nurse...|  162000000|        1.64E11|       Education|Cocomelon - Nurse...|    966| United States|          US|    Education|               2|           2|                1|                      1975000000|               493800.0|               7900000.0|             5900000.0|                 9.48E7|                     1000000|        2006|          Sep|           1|                                   88.2| 328239523|             14.7|       270663028| 37.09024| -95.712891|\n",
            "|      5|           SET India|  159000000|        1.48E11|           Shows|           SET India| 116536|         India|          IN|Entertainment|               3|           2|                2|                      1824000000|               455900.0|               7300000.0|             5500000.0|                 8.75E7|                     1000000|        2006|          Sep|          20|                                   28.1|1366417754|             5.36|       471031528|20.593684|   78.96288|\n",
            "|      6|               Music|  119000000|            0.0|             nan|               Music|      0|           nan|         nan|        Music|         4057944|         nan|              nan|                             nan|                    0.0|                     0.0|                   0.0|                    0.0|                         nan|        2013|          Sep|          24|                                    nan|       nan|              nan|             nan|      nan|        nan|\n",
            "|      7| ��� Kids Diana Show|  112000000|9.3247040539E10|  People & Blogs| ��� Kids Diana Show|   1111| United States|          US|Entertainment|               5|           3|                3|                       731674000|               182900.0|               2900000.0|             2200000.0|                 3.51E7|                         nan|        2015|          May|          12|                                   88.2| 328239523|             14.7|       270663028| 37.09024| -95.712891|\n",
            "|      8|           PewDiePie|  111000000|2.9058044447E10|          Gaming|           PewDiePie|   4716|         Japan|          JP|Entertainment|              44|           1|                4|                        39184000|                 9800.0|                156700.0|              117600.0|              1900000.0|                         nan|        2010|          Apr|          29|                                   63.2| 126226568|             2.29|       115782416|36.204824| 138.252924|\n",
            "|      9|         Like Nastya|  106000000|9.0479060027E10|  People & Blogs|    Like Nastya Vlog|    493|        Russia|          RU|       People|             630|           5|               25|                        48947000|                12200.0|                195800.0|              146800.0|              2300000.0|                      100000|        2016|          Jan|          14|                                   81.9| 144373535|             4.59|       107683889| 61.52401| 105.318756|\n",
            "|     10|       Vlad and Niki|   98900000|7.7180169894E10|   Entertainment|       Vlad and Niki|    574| United States|          US|Entertainment|               8|           5|                6|                       580574000|               145100.0|               2300000.0|             1700000.0|                 2.79E7|                      600000|        2018|          Apr|          23|                                   88.2| 328239523|             14.7|       270663028| 37.09024| -95.712891|\n",
            "|     11|   Zee Music Company|   96700000|5.7856289381E10|           Music|   Zee Music Company|   8548|         India|          IN|        Music|              12|           3|                2|                       803613000|               200900.0|               3200000.0|             2400000.0|                 3.86E7|                     1100000|        2014|          Mar|          12|                                   28.1|1366417754|             5.36|       471031528|20.593684|   78.96288|\n",
            "|     12|                 WWE|   96000000|7.7428473662E10|          Sports|                 WWE|  70127| United States|          US|       Sports|               7|           6|                1|                       714614000|               178700.0|               2900000.0|             2100000.0|                 3.43E7|                      600000|        2007|          May|          11|                                   88.2| 328239523|             14.7|       270663028| 37.09024| -95.712891|\n",
            "|     13|              Gaming|   93600000|            0.0|             nan|              Gaming|      0|           nan|         nan|        Games|         4057944|         nan|                1|                             nan|                    0.0|                     0.0|                   0.0|                    0.0|                         nan|        2013|          Dec|          15|                                    nan|       nan|              nan|             nan|      nan|        nan|\n",
            "|     14|           BLACKPINK|   89800000|3.2144597566E10|  People & Blogs|           BLACKPINK|    543|   South Korea|          KR|        Music|              32|           1|                3|                       498930000|               124700.0|               2000000.0|             1500000.0|                 2.39E7|                      700000|        2016|          Jun|          29|                                   94.3|  51709098|             4.15|        42106719|35.907757| 127.766922|\n",
            "|     15|           Goldmines|   86900000| 2.411823058E10|Film & Animation|           goldmines|      1|           nan|         nan|        Music|         4056562|         nan|             5663|                              18|                    0.0|                    0.07|                  0.05|                   0.86|                         nan|        2006|          Aug|          15|                                    nan|       nan|              nan|             nan|      nan|        nan|\n",
            "|     16|            Sony SAB|   83000000|        1.01E11|           Shows|            Sony SAB|  71270|         India|          IN|Entertainment|               4|           5|                7|                      1657000000|               414300.0|               6600000.0|             5000000.0|                 7.96E7|                     1100000|        2007|          Aug|           4|                                   28.1|1366417754|             5.36|       471031528|20.593684|   78.96288|\n",
            "|     17|     5-Minute Crafts|   80100000|2.6236790209E10|   Howto & Style| 5-Minute Crafts 2.0|      1|United Kingdom|          GB|Entertainment|         4057901|        4797|             6781|                               1|                    0.0|                     0.0|                   0.0|                   0.05|                         nan|        2020|          Jul|          27|                                     60|  66834405|             3.85|        55908316|55.378051|  -3.435973|\n",
            "|     18|           BANGTANTV|   75600000|2.0826993957E10|           Music|           BANGTANTV|   2281|   South Korea|          KR|        Music|             112|           2|                4|                       168290000|                42100.0|                673200.0|              504900.0|              8100000.0|                      400000|        2012|          Dec|          17|                                   94.3|  51709098|             4.15|        42106719|35.907757| 127.766922|\n",
            "|     19|              Sports|   75000000|            0.0|             nan|              sports|      3| United States|          US|Entertainment|         3898122|        6266|             5395|                              16|                    0.0|                    0.06|                  0.05|                   0.77|                         nan|        2006|          Jan|          30|                                   88.2| 328239523|             14.7|       270663028| 37.09024| -95.712891|\n",
            "|     20|       Justin Bieber|   71600000|3.0608119724E10|           Music|       Justin Bieber|    249|        Canada|          CA|        Music|              38|           1|                6|                       176326000|                44100.0|                705300.0|              529000.0|              8500000.0|                      100000|        2007|          Jan|          15|                                   68.9|  36991981|             5.56|        30628482|56.130366|-106.346771|\n",
            "+-------+--------------------+-----------+---------------+----------------+--------------------+-------+--------------+------------+-------------+----------------+------------+-----------------+--------------------------------+-----------------------+------------------------+----------------------+-----------------------+----------------------------+------------+-------------+------------+---------------------------------------+----------+-----------------+----------------+---------+-----------+\n",
            "only showing top 20 rows\n",
            "\n"
          ]
        }
      ]
    },
    {
      "cell_type": "code",
      "source": [
        "# Dropping all rows with null values on any columns\n",
        "total_attritions = youtube_df.count()\n",
        "non_na_attritions = youtube_df.na.drop(\"all\").count()\n",
        "print(\"Total rows = \", total_attritions)\n",
        "print(\"Total Non-NA rows = \", non_na_attritions)\n",
        "print(\"Total NA rows = \", total_attritions - non_na_attritions)\n",
        "origData = youtube_df.dropna(how='all')"
      ],
      "metadata": {
        "colab": {
          "base_uri": "https://localhost:8080/"
        },
        "id": "crcO8i5uiLZr",
        "outputId": "6d8af2a1-c9d8-4e7e-e9c9-f87417d16b69"
      },
      "execution_count": 51,
      "outputs": [
        {
          "output_type": "stream",
          "name": "stdout",
          "text": [
            "Total rows =  995\n",
            "Total Non-NA rows =  995\n",
            "Total NA rows =  0\n"
          ]
        }
      ]
    },
    {
      "cell_type": "code",
      "source": [
        "# Dropping duplicate records if any\n",
        "total_attritions = youtube_df.count()\n",
        "unique_attritions = youtube_df.dropDuplicates().count()\n",
        "print(\"Total rows = \", total_attritions)\n",
        "print(\"Total unique rows = \", unique_attritions)\n",
        "print(\"Total duplicate rows = \", total_attritions - unique_attritions)"
      ],
      "metadata": {
        "colab": {
          "base_uri": "https://localhost:8080/"
        },
        "id": "hMnI9Em6iXRj",
        "outputId": "698fec49-7ec2-4cf1-e95d-4de5727ca2a0"
      },
      "execution_count": 52,
      "outputs": [
        {
          "output_type": "stream",
          "name": "stdout",
          "text": [
            "Total rows =  995\n",
            "Total unique rows =  995\n",
            "Total duplicate rows =  0\n"
          ]
        }
      ]
    },
    {
      "cell_type": "code",
      "source": [
        "youtube_df.limit(5)"
      ],
      "metadata": {
        "colab": {
          "base_uri": "https://localhost:8080/",
          "height": 306
        },
        "id": "I52RDjubVHnb",
        "outputId": "84ccc43f-6277-4e85-c005-4912629704a9"
      },
      "execution_count": 29,
      "outputs": [
        {
          "output_type": "execute_result",
          "data": {
            "text/plain": [
              "+-------+--------------------+-----------+--------------+----------------+--------------------+-------+-------------+------------+-------------+----------------+------------+-----------------+--------------------------------+-----------------------+------------------------+----------------------+-----------------------+----------------------------+------------+-------------+------------+---------------------------------------+----------+-----------------+----------------+---------+----------+\n",
              "|Ranking|            Youtuber|subscribers|   video views|        category|               Title|uploads|      Country|Abbreviation| channel_type|video_views_rank|country_rank|channel_type_rank|video_views_for_the_last_30_days|lowest_monthly_earnings|highest_monthly_earnings|lowest_yearly_earnings|highest_yearly_earnings|subscribers_for_last_30_days|created_year|created_month|created_date|Gross tertiary education enrollment (%)|Population|Unemployment rate|Urban_population| Latitude| Longitude|\n",
              "+-------+--------------------+-----------+--------------+----------------+--------------------+-------+-------------+------------+-------------+----------------+------------+-----------------+--------------------------------+-----------------------+------------------------+----------------------+-----------------------+----------------------------+------------+-------------+------------+---------------------------------------+----------+-----------------+----------------+---------+----------+\n",
              "|      1|            T-Series|  245000000|       2.28E11|           Music|            T-Series|  20082|        India|          IN|        Music|               1|           1|                1|                      2258000000|               564600.0|               9000000.0|             6800000.0|                1.084E8|                     2000000|        2006|          Mar|          13|                                   28.1|1366417754|             5.36|       471031528|20.593684|  78.96288|\n",
              "|      2|      YouTube Movies|  170000000|           0.0|Film & Animation|       youtubemovies|      1|United States|          US|        Games|         4055159|        7670|             7423|                              12|                    0.0|                    0.05|                  0.04|                   0.58|                         nan|        2006|          Mar|           5|                                   88.2| 328239523|             14.7|       270663028| 37.09024|-95.712891|\n",
              "|      3|             MrBeast|  166000000|2.836884187E10|   Entertainment|             MrBeast|    741|United States|          US|Entertainment|              48|           1|                1|                      1348000000|               337000.0|               5400000.0|             4000000.0|                 6.47E7|                     8000000|        2012|          Feb|          20|                                   88.2| 328239523|             14.7|       270663028| 37.09024|-95.712891|\n",
              "|      4|Cocomelon - Nurse...|  162000000|       1.64E11|       Education|Cocomelon - Nurse...|    966|United States|          US|    Education|               2|           2|                1|                      1975000000|               493800.0|               7900000.0|             5900000.0|                 9.48E7|                     1000000|        2006|          Sep|           1|                                   88.2| 328239523|             14.7|       270663028| 37.09024|-95.712891|\n",
              "|      5|           SET India|  159000000|       1.48E11|           Shows|           SET India| 116536|        India|          IN|Entertainment|               3|           2|                2|                      1824000000|               455900.0|               7300000.0|             5500000.0|                 8.75E7|                     1000000|        2006|          Sep|          20|                                   28.1|1366417754|             5.36|       471031528|20.593684|  78.96288|\n",
              "+-------+--------------------+-----------+--------------+----------------+--------------------+-------+-------------+------------+-------------+----------------+------------+-----------------+--------------------------------+-----------------------+------------------------+----------------------+-----------------------+----------------------------+------------+-------------+------------+---------------------------------------+----------+-----------------+----------------+---------+----------+"
            ],
            "text/html": [
              "<table border='1'>\n",
              "<tr><th>Ranking</th><th>Youtuber</th><th>subscribers</th><th>video views</th><th>category</th><th>Title</th><th>uploads</th><th>Country</th><th>Abbreviation</th><th>channel_type</th><th>video_views_rank</th><th>country_rank</th><th>channel_type_rank</th><th>video_views_for_the_last_30_days</th><th>lowest_monthly_earnings</th><th>highest_monthly_earnings</th><th>lowest_yearly_earnings</th><th>highest_yearly_earnings</th><th>subscribers_for_last_30_days</th><th>created_year</th><th>created_month</th><th>created_date</th><th>Gross tertiary education enrollment (%)</th><th>Population</th><th>Unemployment rate</th><th>Urban_population</th><th>Latitude</th><th>Longitude</th></tr>\n",
              "<tr><td>1</td><td>T-Series</td><td>245000000</td><td>2.28E11</td><td>Music</td><td>T-Series</td><td>20082</td><td>India</td><td>IN</td><td>Music</td><td>1</td><td>1</td><td>1</td><td>2258000000</td><td>564600.0</td><td>9000000.0</td><td>6800000.0</td><td>1.084E8</td><td>2000000</td><td>2006</td><td>Mar</td><td>13</td><td>28.1</td><td>1366417754</td><td>5.36</td><td>471031528</td><td>20.593684</td><td>78.96288</td></tr>\n",
              "<tr><td>2</td><td>YouTube Movies</td><td>170000000</td><td>0.0</td><td>Film &amp; Animation</td><td>youtubemovies</td><td>1</td><td>United States</td><td>US</td><td>Games</td><td>4055159</td><td>7670</td><td>7423</td><td>12</td><td>0.0</td><td>0.05</td><td>0.04</td><td>0.58</td><td>nan</td><td>2006</td><td>Mar</td><td>5</td><td>88.2</td><td>328239523</td><td>14.7</td><td>270663028</td><td>37.09024</td><td>-95.712891</td></tr>\n",
              "<tr><td>3</td><td>MrBeast</td><td>166000000</td><td>2.836884187E10</td><td>Entertainment</td><td>MrBeast</td><td>741</td><td>United States</td><td>US</td><td>Entertainment</td><td>48</td><td>1</td><td>1</td><td>1348000000</td><td>337000.0</td><td>5400000.0</td><td>4000000.0</td><td>6.47E7</td><td>8000000</td><td>2012</td><td>Feb</td><td>20</td><td>88.2</td><td>328239523</td><td>14.7</td><td>270663028</td><td>37.09024</td><td>-95.712891</td></tr>\n",
              "<tr><td>4</td><td>Cocomelon - Nurse...</td><td>162000000</td><td>1.64E11</td><td>Education</td><td>Cocomelon - Nurse...</td><td>966</td><td>United States</td><td>US</td><td>Education</td><td>2</td><td>2</td><td>1</td><td>1975000000</td><td>493800.0</td><td>7900000.0</td><td>5900000.0</td><td>9.48E7</td><td>1000000</td><td>2006</td><td>Sep</td><td>1</td><td>88.2</td><td>328239523</td><td>14.7</td><td>270663028</td><td>37.09024</td><td>-95.712891</td></tr>\n",
              "<tr><td>5</td><td>SET India</td><td>159000000</td><td>1.48E11</td><td>Shows</td><td>SET India</td><td>116536</td><td>India</td><td>IN</td><td>Entertainment</td><td>3</td><td>2</td><td>2</td><td>1824000000</td><td>455900.0</td><td>7300000.0</td><td>5500000.0</td><td>8.75E7</td><td>1000000</td><td>2006</td><td>Sep</td><td>20</td><td>28.1</td><td>1366417754</td><td>5.36</td><td>471031528</td><td>20.593684</td><td>78.96288</td></tr>\n",
              "</table>\n"
            ]
          },
          "metadata": {},
          "execution_count": 29
        }
      ]
    },
    {
      "cell_type": "code",
      "source": [
        "youtube_df.agg({'lowest_yearly_earnings':'avg'})"
      ],
      "metadata": {
        "colab": {
          "base_uri": "https://localhost:8080/",
          "height": 69
        },
        "id": "mLH_Wf6TV-Bo",
        "outputId": "15ab8022-d042-4d6a-9de0-5e347c55f4ef"
      },
      "execution_count": 31,
      "outputs": [
        {
          "output_type": "execute_result",
          "data": {
            "text/plain": [
              "+---------------------------+\n",
              "|avg(lowest_yearly_earnings)|\n",
              "+---------------------------+\n",
              "|          442257.3925326631|\n",
              "+---------------------------+"
            ],
            "text/html": [
              "<table border='1'>\n",
              "<tr><th>avg(lowest_yearly_earnings)</th></tr>\n",
              "<tr><td>442257.3925326631</td></tr>\n",
              "</table>\n"
            ]
          },
          "metadata": {},
          "execution_count": 31
        }
      ]
    },
    {
      "cell_type": "code",
      "source": [
        "from pyspark.sql.types import IntegerType\n",
        "from pyspark.sql.functions import udf\n",
        "\n",
        "def round_float_down(x):\n",
        "  return int(x)\n",
        "\n",
        "round_float_down_udf = udf(round_float_down, IntegerType())\n",
        "\n",
        "youtube_df.select('Youtuber', 'category', 'Title',\n",
        "   round_float_down_udf('lowest_yearly_earnings')\n",
        "  .alias('Lowest early earning')).limit(5)"
      ],
      "metadata": {
        "colab": {
          "base_uri": "https://localhost:8080/",
          "height": 165
        },
        "id": "kPJknZCcXa1w",
        "outputId": "a912fad0-96b9-4122-e4cc-999a762b28b7"
      },
      "execution_count": 53,
      "outputs": [
        {
          "output_type": "execute_result",
          "data": {
            "text/plain": [
              "+--------------------+----------------+--------------------+--------------------+\n",
              "|            Youtuber|        category|               Title|Lowest early earning|\n",
              "+--------------------+----------------+--------------------+--------------------+\n",
              "|            T-Series|           Music|            T-Series|             6800000|\n",
              "|      YouTube Movies|Film & Animation|       youtubemovies|                   0|\n",
              "|             MrBeast|   Entertainment|             MrBeast|             4000000|\n",
              "|Cocomelon - Nurse...|       Education|Cocomelon - Nurse...|             5900000|\n",
              "|           SET India|           Shows|           SET India|             5500000|\n",
              "+--------------------+----------------+--------------------+--------------------+"
            ],
            "text/html": [
              "<table border='1'>\n",
              "<tr><th>Youtuber</th><th>category</th><th>Title</th><th>Lowest early earning</th></tr>\n",
              "<tr><td>T-Series</td><td>Music</td><td>T-Series</td><td>6800000</td></tr>\n",
              "<tr><td>YouTube Movies</td><td>Film &amp; Animation</td><td>youtubemovies</td><td>0</td></tr>\n",
              "<tr><td>MrBeast</td><td>Entertainment</td><td>MrBeast</td><td>4000000</td></tr>\n",
              "<tr><td>Cocomelon - Nurse...</td><td>Education</td><td>Cocomelon - Nurse...</td><td>5900000</td></tr>\n",
              "<tr><td>SET India</td><td>Shows</td><td>SET India</td><td>5500000</td></tr>\n",
              "</table>\n"
            ]
          },
          "metadata": {},
          "execution_count": 53
        }
      ]
    },
    {
      "cell_type": "code",
      "source": [
        "youtube_df.createOrReplaceTempView(\"Youtube\")"
      ],
      "metadata": {
        "id": "lSTlJ6tWX2WE"
      },
      "execution_count": 33,
      "outputs": []
    },
    {
      "cell_type": "code",
      "source": [
        "spark.sql('select * from Youtube')"
      ],
      "metadata": {
        "colab": {
          "base_uri": "https://localhost:8080/",
          "height": 873
        },
        "id": "FOEjgu9HX6bW",
        "outputId": "ebbedf97-2899-4da7-ad74-6dd33bd4a149"
      },
      "execution_count": 34,
      "outputs": [
        {
          "output_type": "execute_result",
          "data": {
            "text/plain": [
              "+-------+--------------------+-----------+---------------+----------------+--------------------+-------+--------------+------------+-------------+----------------+------------+-----------------+--------------------------------+-----------------------+------------------------+----------------------+-----------------------+----------------------------+------------+-------------+------------+---------------------------------------+----------+-----------------+----------------+---------+-----------+\n",
              "|Ranking|            Youtuber|subscribers|    video views|        category|               Title|uploads|       Country|Abbreviation| channel_type|video_views_rank|country_rank|channel_type_rank|video_views_for_the_last_30_days|lowest_monthly_earnings|highest_monthly_earnings|lowest_yearly_earnings|highest_yearly_earnings|subscribers_for_last_30_days|created_year|created_month|created_date|Gross tertiary education enrollment (%)|Population|Unemployment rate|Urban_population| Latitude|  Longitude|\n",
              "+-------+--------------------+-----------+---------------+----------------+--------------------+-------+--------------+------------+-------------+----------------+------------+-----------------+--------------------------------+-----------------------+------------------------+----------------------+-----------------------+----------------------------+------------+-------------+------------+---------------------------------------+----------+-----------------+----------------+---------+-----------+\n",
              "|      1|            T-Series|  245000000|        2.28E11|           Music|            T-Series|  20082|         India|          IN|        Music|               1|           1|                1|                      2258000000|               564600.0|               9000000.0|             6800000.0|                1.084E8|                     2000000|        2006|          Mar|          13|                                   28.1|1366417754|             5.36|       471031528|20.593684|   78.96288|\n",
              "|      2|      YouTube Movies|  170000000|            0.0|Film & Animation|       youtubemovies|      1| United States|          US|        Games|         4055159|        7670|             7423|                              12|                    0.0|                    0.05|                  0.04|                   0.58|                         nan|        2006|          Mar|           5|                                   88.2| 328239523|             14.7|       270663028| 37.09024| -95.712891|\n",
              "|      3|             MrBeast|  166000000| 2.836884187E10|   Entertainment|             MrBeast|    741| United States|          US|Entertainment|              48|           1|                1|                      1348000000|               337000.0|               5400000.0|             4000000.0|                 6.47E7|                     8000000|        2012|          Feb|          20|                                   88.2| 328239523|             14.7|       270663028| 37.09024| -95.712891|\n",
              "|      4|Cocomelon - Nurse...|  162000000|        1.64E11|       Education|Cocomelon - Nurse...|    966| United States|          US|    Education|               2|           2|                1|                      1975000000|               493800.0|               7900000.0|             5900000.0|                 9.48E7|                     1000000|        2006|          Sep|           1|                                   88.2| 328239523|             14.7|       270663028| 37.09024| -95.712891|\n",
              "|      5|           SET India|  159000000|        1.48E11|           Shows|           SET India| 116536|         India|          IN|Entertainment|               3|           2|                2|                      1824000000|               455900.0|               7300000.0|             5500000.0|                 8.75E7|                     1000000|        2006|          Sep|          20|                                   28.1|1366417754|             5.36|       471031528|20.593684|   78.96288|\n",
              "|      6|               Music|  119000000|            0.0|             nan|               Music|      0|           nan|         nan|        Music|         4057944|         nan|              nan|                             nan|                    0.0|                     0.0|                   0.0|                    0.0|                         nan|        2013|          Sep|          24|                                    nan|       nan|              nan|             nan|      nan|        nan|\n",
              "|      7| ��� Kids Diana Show|  112000000|9.3247040539E10|  People & Blogs| ��� Kids Diana Show|   1111| United States|          US|Entertainment|               5|           3|                3|                       731674000|               182900.0|               2900000.0|             2200000.0|                 3.51E7|                         nan|        2015|          May|          12|                                   88.2| 328239523|             14.7|       270663028| 37.09024| -95.712891|\n",
              "|      8|           PewDiePie|  111000000|2.9058044447E10|          Gaming|           PewDiePie|   4716|         Japan|          JP|Entertainment|              44|           1|                4|                        39184000|                 9800.0|                156700.0|              117600.0|              1900000.0|                         nan|        2010|          Apr|          29|                                   63.2| 126226568|             2.29|       115782416|36.204824| 138.252924|\n",
              "|      9|         Like Nastya|  106000000|9.0479060027E10|  People & Blogs|    Like Nastya Vlog|    493|        Russia|          RU|       People|             630|           5|               25|                        48947000|                12200.0|                195800.0|              146800.0|              2300000.0|                      100000|        2016|          Jan|          14|                                   81.9| 144373535|             4.59|       107683889| 61.52401| 105.318756|\n",
              "|     10|       Vlad and Niki|   98900000|7.7180169894E10|   Entertainment|       Vlad and Niki|    574| United States|          US|Entertainment|               8|           5|                6|                       580574000|               145100.0|               2300000.0|             1700000.0|                 2.79E7|                      600000|        2018|          Apr|          23|                                   88.2| 328239523|             14.7|       270663028| 37.09024| -95.712891|\n",
              "|     11|   Zee Music Company|   96700000|5.7856289381E10|           Music|   Zee Music Company|   8548|         India|          IN|        Music|              12|           3|                2|                       803613000|               200900.0|               3200000.0|             2400000.0|                 3.86E7|                     1100000|        2014|          Mar|          12|                                   28.1|1366417754|             5.36|       471031528|20.593684|   78.96288|\n",
              "|     12|                 WWE|   96000000|7.7428473662E10|          Sports|                 WWE|  70127| United States|          US|       Sports|               7|           6|                1|                       714614000|               178700.0|               2900000.0|             2100000.0|                 3.43E7|                      600000|        2007|          May|          11|                                   88.2| 328239523|             14.7|       270663028| 37.09024| -95.712891|\n",
              "|     13|              Gaming|   93600000|            0.0|             nan|              Gaming|      0|           nan|         nan|        Games|         4057944|         nan|                1|                             nan|                    0.0|                     0.0|                   0.0|                    0.0|                         nan|        2013|          Dec|          15|                                    nan|       nan|              nan|             nan|      nan|        nan|\n",
              "|     14|           BLACKPINK|   89800000|3.2144597566E10|  People & Blogs|           BLACKPINK|    543|   South Korea|          KR|        Music|              32|           1|                3|                       498930000|               124700.0|               2000000.0|             1500000.0|                 2.39E7|                      700000|        2016|          Jun|          29|                                   94.3|  51709098|             4.15|        42106719|35.907757| 127.766922|\n",
              "|     15|           Goldmines|   86900000| 2.411823058E10|Film & Animation|           goldmines|      1|           nan|         nan|        Music|         4056562|         nan|             5663|                              18|                    0.0|                    0.07|                  0.05|                   0.86|                         nan|        2006|          Aug|          15|                                    nan|       nan|              nan|             nan|      nan|        nan|\n",
              "|     16|            Sony SAB|   83000000|        1.01E11|           Shows|            Sony SAB|  71270|         India|          IN|Entertainment|               4|           5|                7|                      1657000000|               414300.0|               6600000.0|             5000000.0|                 7.96E7|                     1100000|        2007|          Aug|           4|                                   28.1|1366417754|             5.36|       471031528|20.593684|   78.96288|\n",
              "|     17|     5-Minute Crafts|   80100000|2.6236790209E10|   Howto & Style| 5-Minute Crafts 2.0|      1|United Kingdom|          GB|Entertainment|         4057901|        4797|             6781|                               1|                    0.0|                     0.0|                   0.0|                   0.05|                         nan|        2020|          Jul|          27|                                     60|  66834405|             3.85|        55908316|55.378051|  -3.435973|\n",
              "|     18|           BANGTANTV|   75600000|2.0826993957E10|           Music|           BANGTANTV|   2281|   South Korea|          KR|        Music|             112|           2|                4|                       168290000|                42100.0|                673200.0|              504900.0|              8100000.0|                      400000|        2012|          Dec|          17|                                   94.3|  51709098|             4.15|        42106719|35.907757| 127.766922|\n",
              "|     19|              Sports|   75000000|            0.0|             nan|              sports|      3| United States|          US|Entertainment|         3898122|        6266|             5395|                              16|                    0.0|                    0.06|                  0.05|                   0.77|                         nan|        2006|          Jan|          30|                                   88.2| 328239523|             14.7|       270663028| 37.09024| -95.712891|\n",
              "|     20|       Justin Bieber|   71600000|3.0608119724E10|           Music|       Justin Bieber|    249|        Canada|          CA|        Music|              38|           1|                6|                       176326000|                44100.0|                705300.0|              529000.0|              8500000.0|                      100000|        2007|          Jan|          15|                                   68.9|  36991981|             5.56|        30628482|56.130366|-106.346771|\n",
              "+-------+--------------------+-----------+---------------+----------------+--------------------+-------+--------------+------------+-------------+----------------+------------+-----------------+--------------------------------+-----------------------+------------------------+----------------------+-----------------------+----------------------------+------------+-------------+------------+---------------------------------------+----------+-----------------+----------------+---------+-----------+\n",
              "only showing top 20 rows"
            ],
            "text/html": [
              "<table border='1'>\n",
              "<tr><th>Ranking</th><th>Youtuber</th><th>subscribers</th><th>video views</th><th>category</th><th>Title</th><th>uploads</th><th>Country</th><th>Abbreviation</th><th>channel_type</th><th>video_views_rank</th><th>country_rank</th><th>channel_type_rank</th><th>video_views_for_the_last_30_days</th><th>lowest_monthly_earnings</th><th>highest_monthly_earnings</th><th>lowest_yearly_earnings</th><th>highest_yearly_earnings</th><th>subscribers_for_last_30_days</th><th>created_year</th><th>created_month</th><th>created_date</th><th>Gross tertiary education enrollment (%)</th><th>Population</th><th>Unemployment rate</th><th>Urban_population</th><th>Latitude</th><th>Longitude</th></tr>\n",
              "<tr><td>1</td><td>T-Series</td><td>245000000</td><td>2.28E11</td><td>Music</td><td>T-Series</td><td>20082</td><td>India</td><td>IN</td><td>Music</td><td>1</td><td>1</td><td>1</td><td>2258000000</td><td>564600.0</td><td>9000000.0</td><td>6800000.0</td><td>1.084E8</td><td>2000000</td><td>2006</td><td>Mar</td><td>13</td><td>28.1</td><td>1366417754</td><td>5.36</td><td>471031528</td><td>20.593684</td><td>78.96288</td></tr>\n",
              "<tr><td>2</td><td>YouTube Movies</td><td>170000000</td><td>0.0</td><td>Film &amp; Animation</td><td>youtubemovies</td><td>1</td><td>United States</td><td>US</td><td>Games</td><td>4055159</td><td>7670</td><td>7423</td><td>12</td><td>0.0</td><td>0.05</td><td>0.04</td><td>0.58</td><td>nan</td><td>2006</td><td>Mar</td><td>5</td><td>88.2</td><td>328239523</td><td>14.7</td><td>270663028</td><td>37.09024</td><td>-95.712891</td></tr>\n",
              "<tr><td>3</td><td>MrBeast</td><td>166000000</td><td>2.836884187E10</td><td>Entertainment</td><td>MrBeast</td><td>741</td><td>United States</td><td>US</td><td>Entertainment</td><td>48</td><td>1</td><td>1</td><td>1348000000</td><td>337000.0</td><td>5400000.0</td><td>4000000.0</td><td>6.47E7</td><td>8000000</td><td>2012</td><td>Feb</td><td>20</td><td>88.2</td><td>328239523</td><td>14.7</td><td>270663028</td><td>37.09024</td><td>-95.712891</td></tr>\n",
              "<tr><td>4</td><td>Cocomelon - Nurse...</td><td>162000000</td><td>1.64E11</td><td>Education</td><td>Cocomelon - Nurse...</td><td>966</td><td>United States</td><td>US</td><td>Education</td><td>2</td><td>2</td><td>1</td><td>1975000000</td><td>493800.0</td><td>7900000.0</td><td>5900000.0</td><td>9.48E7</td><td>1000000</td><td>2006</td><td>Sep</td><td>1</td><td>88.2</td><td>328239523</td><td>14.7</td><td>270663028</td><td>37.09024</td><td>-95.712891</td></tr>\n",
              "<tr><td>5</td><td>SET India</td><td>159000000</td><td>1.48E11</td><td>Shows</td><td>SET India</td><td>116536</td><td>India</td><td>IN</td><td>Entertainment</td><td>3</td><td>2</td><td>2</td><td>1824000000</td><td>455900.0</td><td>7300000.0</td><td>5500000.0</td><td>8.75E7</td><td>1000000</td><td>2006</td><td>Sep</td><td>20</td><td>28.1</td><td>1366417754</td><td>5.36</td><td>471031528</td><td>20.593684</td><td>78.96288</td></tr>\n",
              "<tr><td>6</td><td>Music</td><td>119000000</td><td>0.0</td><td>nan</td><td>Music</td><td>0</td><td>nan</td><td>nan</td><td>Music</td><td>4057944</td><td>nan</td><td>nan</td><td>nan</td><td>0.0</td><td>0.0</td><td>0.0</td><td>0.0</td><td>nan</td><td>2013</td><td>Sep</td><td>24</td><td>nan</td><td>nan</td><td>nan</td><td>nan</td><td>nan</td><td>nan</td></tr>\n",
              "<tr><td>7</td><td>��� Kids Diana Show</td><td>112000000</td><td>9.3247040539E10</td><td>People &amp; Blogs</td><td>��� Kids Diana Show</td><td>1111</td><td>United States</td><td>US</td><td>Entertainment</td><td>5</td><td>3</td><td>3</td><td>731674000</td><td>182900.0</td><td>2900000.0</td><td>2200000.0</td><td>3.51E7</td><td>nan</td><td>2015</td><td>May</td><td>12</td><td>88.2</td><td>328239523</td><td>14.7</td><td>270663028</td><td>37.09024</td><td>-95.712891</td></tr>\n",
              "<tr><td>8</td><td>PewDiePie</td><td>111000000</td><td>2.9058044447E10</td><td>Gaming</td><td>PewDiePie</td><td>4716</td><td>Japan</td><td>JP</td><td>Entertainment</td><td>44</td><td>1</td><td>4</td><td>39184000</td><td>9800.0</td><td>156700.0</td><td>117600.0</td><td>1900000.0</td><td>nan</td><td>2010</td><td>Apr</td><td>29</td><td>63.2</td><td>126226568</td><td>2.29</td><td>115782416</td><td>36.204824</td><td>138.252924</td></tr>\n",
              "<tr><td>9</td><td>Like Nastya</td><td>106000000</td><td>9.0479060027E10</td><td>People &amp; Blogs</td><td>Like Nastya Vlog</td><td>493</td><td>Russia</td><td>RU</td><td>People</td><td>630</td><td>5</td><td>25</td><td>48947000</td><td>12200.0</td><td>195800.0</td><td>146800.0</td><td>2300000.0</td><td>100000</td><td>2016</td><td>Jan</td><td>14</td><td>81.9</td><td>144373535</td><td>4.59</td><td>107683889</td><td>61.52401</td><td>105.318756</td></tr>\n",
              "<tr><td>10</td><td>Vlad and Niki</td><td>98900000</td><td>7.7180169894E10</td><td>Entertainment</td><td>Vlad and Niki</td><td>574</td><td>United States</td><td>US</td><td>Entertainment</td><td>8</td><td>5</td><td>6</td><td>580574000</td><td>145100.0</td><td>2300000.0</td><td>1700000.0</td><td>2.79E7</td><td>600000</td><td>2018</td><td>Apr</td><td>23</td><td>88.2</td><td>328239523</td><td>14.7</td><td>270663028</td><td>37.09024</td><td>-95.712891</td></tr>\n",
              "<tr><td>11</td><td>Zee Music Company</td><td>96700000</td><td>5.7856289381E10</td><td>Music</td><td>Zee Music Company</td><td>8548</td><td>India</td><td>IN</td><td>Music</td><td>12</td><td>3</td><td>2</td><td>803613000</td><td>200900.0</td><td>3200000.0</td><td>2400000.0</td><td>3.86E7</td><td>1100000</td><td>2014</td><td>Mar</td><td>12</td><td>28.1</td><td>1366417754</td><td>5.36</td><td>471031528</td><td>20.593684</td><td>78.96288</td></tr>\n",
              "<tr><td>12</td><td>WWE</td><td>96000000</td><td>7.7428473662E10</td><td>Sports</td><td>WWE</td><td>70127</td><td>United States</td><td>US</td><td>Sports</td><td>7</td><td>6</td><td>1</td><td>714614000</td><td>178700.0</td><td>2900000.0</td><td>2100000.0</td><td>3.43E7</td><td>600000</td><td>2007</td><td>May</td><td>11</td><td>88.2</td><td>328239523</td><td>14.7</td><td>270663028</td><td>37.09024</td><td>-95.712891</td></tr>\n",
              "<tr><td>13</td><td>Gaming</td><td>93600000</td><td>0.0</td><td>nan</td><td>Gaming</td><td>0</td><td>nan</td><td>nan</td><td>Games</td><td>4057944</td><td>nan</td><td>1</td><td>nan</td><td>0.0</td><td>0.0</td><td>0.0</td><td>0.0</td><td>nan</td><td>2013</td><td>Dec</td><td>15</td><td>nan</td><td>nan</td><td>nan</td><td>nan</td><td>nan</td><td>nan</td></tr>\n",
              "<tr><td>14</td><td>BLACKPINK</td><td>89800000</td><td>3.2144597566E10</td><td>People &amp; Blogs</td><td>BLACKPINK</td><td>543</td><td>South Korea</td><td>KR</td><td>Music</td><td>32</td><td>1</td><td>3</td><td>498930000</td><td>124700.0</td><td>2000000.0</td><td>1500000.0</td><td>2.39E7</td><td>700000</td><td>2016</td><td>Jun</td><td>29</td><td>94.3</td><td>51709098</td><td>4.15</td><td>42106719</td><td>35.907757</td><td>127.766922</td></tr>\n",
              "<tr><td>15</td><td>Goldmines</td><td>86900000</td><td>2.411823058E10</td><td>Film &amp; Animation</td><td>goldmines</td><td>1</td><td>nan</td><td>nan</td><td>Music</td><td>4056562</td><td>nan</td><td>5663</td><td>18</td><td>0.0</td><td>0.07</td><td>0.05</td><td>0.86</td><td>nan</td><td>2006</td><td>Aug</td><td>15</td><td>nan</td><td>nan</td><td>nan</td><td>nan</td><td>nan</td><td>nan</td></tr>\n",
              "<tr><td>16</td><td>Sony SAB</td><td>83000000</td><td>1.01E11</td><td>Shows</td><td>Sony SAB</td><td>71270</td><td>India</td><td>IN</td><td>Entertainment</td><td>4</td><td>5</td><td>7</td><td>1657000000</td><td>414300.0</td><td>6600000.0</td><td>5000000.0</td><td>7.96E7</td><td>1100000</td><td>2007</td><td>Aug</td><td>4</td><td>28.1</td><td>1366417754</td><td>5.36</td><td>471031528</td><td>20.593684</td><td>78.96288</td></tr>\n",
              "<tr><td>17</td><td>5-Minute Crafts</td><td>80100000</td><td>2.6236790209E10</td><td>Howto &amp; Style</td><td>5-Minute Crafts 2.0</td><td>1</td><td>United Kingdom</td><td>GB</td><td>Entertainment</td><td>4057901</td><td>4797</td><td>6781</td><td>1</td><td>0.0</td><td>0.0</td><td>0.0</td><td>0.05</td><td>nan</td><td>2020</td><td>Jul</td><td>27</td><td>60</td><td>66834405</td><td>3.85</td><td>55908316</td><td>55.378051</td><td>-3.435973</td></tr>\n",
              "<tr><td>18</td><td>BANGTANTV</td><td>75600000</td><td>2.0826993957E10</td><td>Music</td><td>BANGTANTV</td><td>2281</td><td>South Korea</td><td>KR</td><td>Music</td><td>112</td><td>2</td><td>4</td><td>168290000</td><td>42100.0</td><td>673200.0</td><td>504900.0</td><td>8100000.0</td><td>400000</td><td>2012</td><td>Dec</td><td>17</td><td>94.3</td><td>51709098</td><td>4.15</td><td>42106719</td><td>35.907757</td><td>127.766922</td></tr>\n",
              "<tr><td>19</td><td>Sports</td><td>75000000</td><td>0.0</td><td>nan</td><td>sports</td><td>3</td><td>United States</td><td>US</td><td>Entertainment</td><td>3898122</td><td>6266</td><td>5395</td><td>16</td><td>0.0</td><td>0.06</td><td>0.05</td><td>0.77</td><td>nan</td><td>2006</td><td>Jan</td><td>30</td><td>88.2</td><td>328239523</td><td>14.7</td><td>270663028</td><td>37.09024</td><td>-95.712891</td></tr>\n",
              "<tr><td>20</td><td>Justin Bieber</td><td>71600000</td><td>3.0608119724E10</td><td>Music</td><td>Justin Bieber</td><td>249</td><td>Canada</td><td>CA</td><td>Music</td><td>38</td><td>1</td><td>6</td><td>176326000</td><td>44100.0</td><td>705300.0</td><td>529000.0</td><td>8500000.0</td><td>100000</td><td>2007</td><td>Jan</td><td>15</td><td>68.9</td><td>36991981</td><td>5.56</td><td>30628482</td><td>56.130366</td><td>-106.346771</td></tr>\n",
              "</table>\n",
              "only showing top 20 rows\n"
            ]
          },
          "metadata": {},
          "execution_count": 34
        }
      ]
    },
    {
      "cell_type": "code",
      "source": [
        "query = \"\"\"\n",
        "  SELECT Youtuber, subscribers, country\n",
        "  FROM Youtube\n",
        "  WHERE Country == \"India\"\n",
        "  ORDER BY subscribers DESC\n",
        "  LIMIT 10;\n",
        "\"\"\"\n",
        "\n",
        "spark.sql(query).show()"
      ],
      "metadata": {
        "colab": {
          "base_uri": "https://localhost:8080/"
        },
        "id": "4xtwpehEerCR",
        "outputId": "af1be193-3baf-4d6b-dfd6-46c899d930ed"
      },
      "execution_count": 49,
      "outputs": [
        {
          "output_type": "stream",
          "name": "stdout",
          "text": [
            "+--------------------+-----------+-------+\n",
            "|            Youtuber|subscribers|country|\n",
            "+--------------------+-----------+-------+\n",
            "|            T-Series|  245000000|  India|\n",
            "|           SET India|  159000000|  India|\n",
            "|   Zee Music Company|   96700000|  India|\n",
            "|            Sony SAB|   83000000|  India|\n",
            "|              Zee TV|   70500000|  India|\n",
            "|ChuChu TV Nursery...|   65900000|  India|\n",
            "|Shemaroo Filmi Gaane|   65600000|  India|\n",
            "|           Colors TV|   64600000|  India|\n",
            "|T-Series Bhakti S...|   61000000|  India|\n",
            "|       Tips Official|   59300000|  India|\n",
            "+--------------------+-----------+-------+\n",
            "\n"
          ]
        }
      ]
    },
    {
      "cell_type": "code",
      "source": [],
      "metadata": {
        "id": "hoz2h_vAiGyy"
      },
      "execution_count": null,
      "outputs": []
    }
  ]
}